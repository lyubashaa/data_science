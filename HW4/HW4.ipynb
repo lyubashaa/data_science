{
 "cells": [
  {
   "cell_type": "code",
   "id": "initial_id",
   "metadata": {
    "collapsed": true,
    "ExecuteTime": {
     "end_time": "2025-03-19T18:46:58.187380Z",
     "start_time": "2025-03-19T18:46:58.029208Z"
    }
   },
   "source": [
    "import data_loader as dl\n",
    "\n",
    "# Указание пути к CSV-файлу\n",
    "file_path = '/Users/lubovsoldatenko/DataspellProjects/datascience/HW4/data/Traffic.csv'\n",
    "\n",
    "# Загрузка данных\n",
    "loader = dl.LoadData()\n",
    "df = loader.load_csv(file_path)"
   ],
   "outputs": [
    {
     "name": "stdout",
     "output_type": "stream",
     "text": [
      "Файл /Users/lubovsoldatenko/DataspellProjects/datascience/HW4/data/Traffic.csv успешно загружен.\n"
     ]
    }
   ],
   "execution_count": 1
  },
  {
   "metadata": {
    "ExecuteTime": {
     "end_time": "2025-03-19T18:46:58.248792Z",
     "start_time": "2025-03-19T18:46:58.227271Z"
    }
   },
   "cell_type": "code",
   "source": [
    "# Просмотр данных\n",
    "df.head(5)"
   ],
   "id": "2e6a9a4acca23ef4",
   "outputs": [
    {
     "data": {
      "text/plain": [
       "          Time  Date Day of the week  CarCount  BikeCount  BusCount  \\\n",
       "0  12:00:00 AM    10         Tuesday        31          0         4   \n",
       "1  12:15:00 AM    10         Tuesday        49          0         3   \n",
       "2  12:30:00 AM    10         Tuesday        46          0         3   \n",
       "3  12:45:00 AM    10         Tuesday        51          0         2   \n",
       "4   1:00:00 AM    10         Tuesday        57          6        15   \n",
       "\n",
       "   TruckCount  Total Traffic Situation  \n",
       "0           4     39               low  \n",
       "1           3     55               low  \n",
       "2           6     55               low  \n",
       "3           5     58               low  \n",
       "4          16     94            normal  "
      ],
      "text/html": [
       "<div>\n",
       "<style scoped>\n",
       "    .dataframe tbody tr th:only-of-type {\n",
       "        vertical-align: middle;\n",
       "    }\n",
       "\n",
       "    .dataframe tbody tr th {\n",
       "        vertical-align: top;\n",
       "    }\n",
       "\n",
       "    .dataframe thead th {\n",
       "        text-align: right;\n",
       "    }\n",
       "</style>\n",
       "<table border=\"1\" class=\"dataframe\">\n",
       "  <thead>\n",
       "    <tr style=\"text-align: right;\">\n",
       "      <th></th>\n",
       "      <th>Time</th>\n",
       "      <th>Date</th>\n",
       "      <th>Day of the week</th>\n",
       "      <th>CarCount</th>\n",
       "      <th>BikeCount</th>\n",
       "      <th>BusCount</th>\n",
       "      <th>TruckCount</th>\n",
       "      <th>Total</th>\n",
       "      <th>Traffic Situation</th>\n",
       "    </tr>\n",
       "  </thead>\n",
       "  <tbody>\n",
       "    <tr>\n",
       "      <th>0</th>\n",
       "      <td>12:00:00 AM</td>\n",
       "      <td>10</td>\n",
       "      <td>Tuesday</td>\n",
       "      <td>31</td>\n",
       "      <td>0</td>\n",
       "      <td>4</td>\n",
       "      <td>4</td>\n",
       "      <td>39</td>\n",
       "      <td>low</td>\n",
       "    </tr>\n",
       "    <tr>\n",
       "      <th>1</th>\n",
       "      <td>12:15:00 AM</td>\n",
       "      <td>10</td>\n",
       "      <td>Tuesday</td>\n",
       "      <td>49</td>\n",
       "      <td>0</td>\n",
       "      <td>3</td>\n",
       "      <td>3</td>\n",
       "      <td>55</td>\n",
       "      <td>low</td>\n",
       "    </tr>\n",
       "    <tr>\n",
       "      <th>2</th>\n",
       "      <td>12:30:00 AM</td>\n",
       "      <td>10</td>\n",
       "      <td>Tuesday</td>\n",
       "      <td>46</td>\n",
       "      <td>0</td>\n",
       "      <td>3</td>\n",
       "      <td>6</td>\n",
       "      <td>55</td>\n",
       "      <td>low</td>\n",
       "    </tr>\n",
       "    <tr>\n",
       "      <th>3</th>\n",
       "      <td>12:45:00 AM</td>\n",
       "      <td>10</td>\n",
       "      <td>Tuesday</td>\n",
       "      <td>51</td>\n",
       "      <td>0</td>\n",
       "      <td>2</td>\n",
       "      <td>5</td>\n",
       "      <td>58</td>\n",
       "      <td>low</td>\n",
       "    </tr>\n",
       "    <tr>\n",
       "      <th>4</th>\n",
       "      <td>1:00:00 AM</td>\n",
       "      <td>10</td>\n",
       "      <td>Tuesday</td>\n",
       "      <td>57</td>\n",
       "      <td>6</td>\n",
       "      <td>15</td>\n",
       "      <td>16</td>\n",
       "      <td>94</td>\n",
       "      <td>normal</td>\n",
       "    </tr>\n",
       "  </tbody>\n",
       "</table>\n",
       "</div>"
      ]
     },
     "execution_count": 2,
     "metadata": {},
     "output_type": "execute_result"
    }
   ],
   "execution_count": 2
  },
  {
   "metadata": {
    "ExecuteTime": {
     "end_time": "2025-03-19T18:46:58.631178Z",
     "start_time": "2025-03-19T18:46:58.611822Z"
    }
   },
   "cell_type": "code",
   "source": [
    "# Информация о данных\n",
    "df.info()"
   ],
   "id": "fa7e34c42ba2be44",
   "outputs": [
    {
     "name": "stdout",
     "output_type": "stream",
     "text": [
      "<class 'pandas.core.frame.DataFrame'>\n",
      "RangeIndex: 2976 entries, 0 to 2975\n",
      "Data columns (total 9 columns):\n",
      " #   Column             Non-Null Count  Dtype \n",
      "---  ------             --------------  ----- \n",
      " 0   Time               2976 non-null   object\n",
      " 1   Date               2976 non-null   int64 \n",
      " 2   Day of the week    2976 non-null   object\n",
      " 3   CarCount           2976 non-null   int64 \n",
      " 4   BikeCount          2976 non-null   int64 \n",
      " 5   BusCount           2976 non-null   int64 \n",
      " 6   TruckCount         2976 non-null   int64 \n",
      " 7   Total              2976 non-null   int64 \n",
      " 8   Traffic Situation  2976 non-null   object\n",
      "dtypes: int64(6), object(3)\n",
      "memory usage: 209.4+ KB\n"
     ]
    }
   ],
   "execution_count": 3
  },
  {
   "metadata": {
    "ExecuteTime": {
     "end_time": "2025-03-19T18:46:58.731931Z",
     "start_time": "2025-03-19T18:46:58.708882Z"
    }
   },
   "cell_type": "code",
   "source": [
    "# Базовая статистика\n",
    "df.describe()"
   ],
   "id": "f5aadd20eb4b5ad8",
   "outputs": [
    {
     "data": {
      "text/plain": [
       "              Date     CarCount    BikeCount     BusCount   TruckCount  \\\n",
       "count  2976.000000  2976.000000  2976.000000  2976.000000  2976.000000   \n",
       "mean     16.000000    68.696573    14.917339    15.279570    15.324933   \n",
       "std       8.945775    45.850693    12.847518    14.341986    10.603833   \n",
       "min       1.000000     6.000000     0.000000     0.000000     0.000000   \n",
       "25%       8.000000    19.000000     5.000000     1.000000     6.000000   \n",
       "50%      16.000000    64.000000    12.000000    12.000000    14.000000   \n",
       "75%      24.000000   107.000000    22.000000    25.000000    23.000000   \n",
       "max      31.000000   180.000000    70.000000    50.000000    40.000000   \n",
       "\n",
       "             Total  \n",
       "count  2976.000000  \n",
       "mean    114.218414  \n",
       "std      60.190627  \n",
       "min      21.000000  \n",
       "25%      55.000000  \n",
       "50%     109.000000  \n",
       "75%     164.000000  \n",
       "max     279.000000  "
      ],
      "text/html": [
       "<div>\n",
       "<style scoped>\n",
       "    .dataframe tbody tr th:only-of-type {\n",
       "        vertical-align: middle;\n",
       "    }\n",
       "\n",
       "    .dataframe tbody tr th {\n",
       "        vertical-align: top;\n",
       "    }\n",
       "\n",
       "    .dataframe thead th {\n",
       "        text-align: right;\n",
       "    }\n",
       "</style>\n",
       "<table border=\"1\" class=\"dataframe\">\n",
       "  <thead>\n",
       "    <tr style=\"text-align: right;\">\n",
       "      <th></th>\n",
       "      <th>Date</th>\n",
       "      <th>CarCount</th>\n",
       "      <th>BikeCount</th>\n",
       "      <th>BusCount</th>\n",
       "      <th>TruckCount</th>\n",
       "      <th>Total</th>\n",
       "    </tr>\n",
       "  </thead>\n",
       "  <tbody>\n",
       "    <tr>\n",
       "      <th>count</th>\n",
       "      <td>2976.000000</td>\n",
       "      <td>2976.000000</td>\n",
       "      <td>2976.000000</td>\n",
       "      <td>2976.000000</td>\n",
       "      <td>2976.000000</td>\n",
       "      <td>2976.000000</td>\n",
       "    </tr>\n",
       "    <tr>\n",
       "      <th>mean</th>\n",
       "      <td>16.000000</td>\n",
       "      <td>68.696573</td>\n",
       "      <td>14.917339</td>\n",
       "      <td>15.279570</td>\n",
       "      <td>15.324933</td>\n",
       "      <td>114.218414</td>\n",
       "    </tr>\n",
       "    <tr>\n",
       "      <th>std</th>\n",
       "      <td>8.945775</td>\n",
       "      <td>45.850693</td>\n",
       "      <td>12.847518</td>\n",
       "      <td>14.341986</td>\n",
       "      <td>10.603833</td>\n",
       "      <td>60.190627</td>\n",
       "    </tr>\n",
       "    <tr>\n",
       "      <th>min</th>\n",
       "      <td>1.000000</td>\n",
       "      <td>6.000000</td>\n",
       "      <td>0.000000</td>\n",
       "      <td>0.000000</td>\n",
       "      <td>0.000000</td>\n",
       "      <td>21.000000</td>\n",
       "    </tr>\n",
       "    <tr>\n",
       "      <th>25%</th>\n",
       "      <td>8.000000</td>\n",
       "      <td>19.000000</td>\n",
       "      <td>5.000000</td>\n",
       "      <td>1.000000</td>\n",
       "      <td>6.000000</td>\n",
       "      <td>55.000000</td>\n",
       "    </tr>\n",
       "    <tr>\n",
       "      <th>50%</th>\n",
       "      <td>16.000000</td>\n",
       "      <td>64.000000</td>\n",
       "      <td>12.000000</td>\n",
       "      <td>12.000000</td>\n",
       "      <td>14.000000</td>\n",
       "      <td>109.000000</td>\n",
       "    </tr>\n",
       "    <tr>\n",
       "      <th>75%</th>\n",
       "      <td>24.000000</td>\n",
       "      <td>107.000000</td>\n",
       "      <td>22.000000</td>\n",
       "      <td>25.000000</td>\n",
       "      <td>23.000000</td>\n",
       "      <td>164.000000</td>\n",
       "    </tr>\n",
       "    <tr>\n",
       "      <th>max</th>\n",
       "      <td>31.000000</td>\n",
       "      <td>180.000000</td>\n",
       "      <td>70.000000</td>\n",
       "      <td>50.000000</td>\n",
       "      <td>40.000000</td>\n",
       "      <td>279.000000</td>\n",
       "    </tr>\n",
       "  </tbody>\n",
       "</table>\n",
       "</div>"
      ]
     },
     "execution_count": 4,
     "metadata": {},
     "output_type": "execute_result"
    }
   ],
   "execution_count": 4
  },
  {
   "metadata": {
    "ExecuteTime": {
     "end_time": "2025-03-19T18:46:58.814698Z",
     "start_time": "2025-03-19T18:46:58.810649Z"
    }
   },
   "cell_type": "code",
   "source": [
    "# Количество значений в датасете\n",
    "len(df)"
   ],
   "id": "d216ec0ae7bd9bed",
   "outputs": [
    {
     "data": {
      "text/plain": [
       "2976"
      ]
     },
     "execution_count": 5,
     "metadata": {},
     "output_type": "execute_result"
    }
   ],
   "execution_count": 5
  },
  {
   "metadata": {
    "ExecuteTime": {
     "end_time": "2025-03-19T18:46:58.988447Z",
     "start_time": "2025-03-19T18:46:58.979395Z"
    }
   },
   "cell_type": "code",
   "source": [
    "from HW4.data_analyzer import MissingValuesHandler\n",
    "\n",
    "# Создаем объект обработчика\n",
    "handler = MissingValuesHandler(df)\n",
    "\n",
    "# Подсчет пропущенных значений\n",
    "handler.count_missing_values()"
   ],
   "id": "bb5709187ca8035c",
   "outputs": [
    {
     "data": {
      "text/plain": [
       "Time                 0\n",
       "Date                 0\n",
       "Day of the week      0\n",
       "CarCount             0\n",
       "BikeCount            0\n",
       "BusCount             0\n",
       "TruckCount           0\n",
       "Total                0\n",
       "Traffic Situation    0\n",
       "dtype: int64"
      ]
     },
     "execution_count": 6,
     "metadata": {},
     "output_type": "execute_result"
    }
   ],
   "execution_count": 6
  },
  {
   "metadata": {
    "ExecuteTime": {
     "end_time": "2025-03-19T18:46:59.145401Z",
     "start_time": "2025-03-19T18:46:59.135828Z"
    }
   },
   "cell_type": "code",
   "source": [
    "# Отчет о пропущенных данных\n",
    "handler.missing_values_report()"
   ],
   "id": "ddee4797d7412fba",
   "outputs": [
    {
     "name": "stdout",
     "output_type": "stream",
     "text": [
      "\n",
      " Отчет о пропущенных значениях:\n",
      "                   Missing Values  Missing Percentage\n",
      "Time                            0                 0.0\n",
      "Date                            0                 0.0\n",
      "Day of the week                 0                 0.0\n",
      "CarCount                        0                 0.0\n",
      "BikeCount                       0                 0.0\n",
      "BusCount                        0                 0.0\n",
      "TruckCount                      0                 0.0\n",
      "Total                           0                 0.0\n",
      "Traffic Situation               0                 0.0\n"
     ]
    }
   ],
   "execution_count": 7
  },
  {
   "metadata": {
    "ExecuteTime": {
     "end_time": "2025-03-19T18:46:59.325029Z",
     "start_time": "2025-03-19T18:46:59.315386Z"
    }
   },
   "cell_type": "code",
   "source": [
    "# Поиск дубликатов\n",
    "handler.find_duplicates()"
   ],
   "id": "2341b7cd7aa5292d",
   "outputs": [
    {
     "name": "stdout",
     "output_type": "stream",
     "text": [
      "\n",
      " Найдено 0 дубликатов.\n"
     ]
    },
    {
     "data": {
      "text/plain": [
       "Empty DataFrame\n",
       "Columns: [Time, Date, Day of the week, CarCount, BikeCount, BusCount, TruckCount, Total, Traffic Situation]\n",
       "Index: []"
      ],
      "text/html": [
       "<div>\n",
       "<style scoped>\n",
       "    .dataframe tbody tr th:only-of-type {\n",
       "        vertical-align: middle;\n",
       "    }\n",
       "\n",
       "    .dataframe tbody tr th {\n",
       "        vertical-align: top;\n",
       "    }\n",
       "\n",
       "    .dataframe thead th {\n",
       "        text-align: right;\n",
       "    }\n",
       "</style>\n",
       "<table border=\"1\" class=\"dataframe\">\n",
       "  <thead>\n",
       "    <tr style=\"text-align: right;\">\n",
       "      <th></th>\n",
       "      <th>Time</th>\n",
       "      <th>Date</th>\n",
       "      <th>Day of the week</th>\n",
       "      <th>CarCount</th>\n",
       "      <th>BikeCount</th>\n",
       "      <th>BusCount</th>\n",
       "      <th>TruckCount</th>\n",
       "      <th>Total</th>\n",
       "      <th>Traffic Situation</th>\n",
       "    </tr>\n",
       "  </thead>\n",
       "  <tbody>\n",
       "  </tbody>\n",
       "</table>\n",
       "</div>"
      ]
     },
     "execution_count": 8,
     "metadata": {},
     "output_type": "execute_result"
    }
   ],
   "execution_count": 8
  },
  {
   "metadata": {},
   "cell_type": "markdown",
   "source": "Данные без пропусков и дубликатов",
   "id": "d6bb85adbc287f4d"
  },
  {
   "metadata": {
    "ExecuteTime": {
     "end_time": "2025-03-19T18:46:59.506960Z",
     "start_time": "2025-03-19T18:46:59.498942Z"
    }
   },
   "cell_type": "code",
   "source": [
    "# Проверка, количесва данных в каждом классе, чтобы понять, насколько сбалансирован датасет\n",
    "df['Traffic Situation'].value_counts()"
   ],
   "id": "ec717c4ec1435338",
   "outputs": [
    {
     "data": {
      "text/plain": [
       "Traffic Situation\n",
       "normal    1669\n",
       "heavy      682\n",
       "high       321\n",
       "low        304\n",
       "Name: count, dtype: int64"
      ]
     },
     "execution_count": 9,
     "metadata": {},
     "output_type": "execute_result"
    }
   ],
   "execution_count": 9
  },
  {
   "metadata": {},
   "cell_type": "markdown",
   "source": "Датасет несбалансированный\n",
   "id": "d33845e54f3006bd"
  },
  {
   "metadata": {
    "ExecuteTime": {
     "end_time": "2025-03-19T18:46:59.716849Z",
     "start_time": "2025-03-19T18:46:59.705070Z"
    }
   },
   "cell_type": "code",
   "source": [
    "# Балансировка данных\n",
    "# Определяем целевой столбец\n",
    "target_column = 'Traffic Situation'\n",
    "\n",
    "# Балансируем, оставляя ровно 304 элемента в каждом классе\n",
    "df_balanced = df.groupby(target_column).sample(n=304, random_state=42)\n",
    "\n",
    "# Проверяем результат\n",
    "print(df_balanced[target_column].value_counts())"
   ],
   "id": "fe326d5f66efe562",
   "outputs": [
    {
     "name": "stdout",
     "output_type": "stream",
     "text": [
      "Traffic Situation\n",
      "heavy     304\n",
      "high      304\n",
      "low       304\n",
      "normal    304\n",
      "Name: count, dtype: int64\n"
     ]
    }
   ],
   "execution_count": 10
  },
  {
   "metadata": {},
   "cell_type": "markdown",
   "source": "Визуализация",
   "id": "a9cd1adfef25bbe2"
  },
  {
   "metadata": {
    "ExecuteTime": {
     "end_time": "2025-03-19T18:46:59.941139Z",
     "start_time": "2025-03-19T18:46:59.926585Z"
    }
   },
   "cell_type": "code",
   "source": [
    "# Преобразование времени в datetime\n",
    "import pandas as pd\n",
    "df_balanced['Time'] = pd.to_datetime(df_balanced['Time'])"
   ],
   "id": "e0ae1004821b7717",
   "outputs": [
    {
     "name": "stderr",
     "output_type": "stream",
     "text": [
      "/var/folders/91/pkfxltzd5fd66hd8w6yxgpb40000gn/T/ipykernel_67064/2965304464.py:3: UserWarning: Could not infer format, so each element will be parsed individually, falling back to `dateutil`. To ensure parsing is consistent and as-expected, please specify a format.\n",
      "  df_balanced['Time'] = pd.to_datetime(df_balanced['Time'])\n"
     ]
    }
   ],
   "execution_count": 11
  },
  {
   "metadata": {
    "ExecuteTime": {
     "end_time": "2025-03-19T18:47:00.086311Z",
     "start_time": "2025-03-19T18:47:00.056424Z"
    }
   },
   "cell_type": "code",
   "source": [
    "# Группировка данных по часам\n",
    "df_balanced['Hour'] = df_balanced['Time'].dt.hour\n",
    "\n",
    "# Суммирование по каждому виду транспорта для каждого часа\n",
    "hourly_traffic = df_balanced.groupby('Hour')[['CarCount', 'BikeCount', 'BusCount', 'TruckCount']].sum().reset_index()\n"
   ],
   "id": "8aaec479730cf9b6",
   "outputs": [],
   "execution_count": 12
  },
  {
   "metadata": {
    "ExecuteTime": {
     "end_time": "2025-03-19T18:47:00.551114Z",
     "start_time": "2025-03-19T18:47:00.264332Z"
    }
   },
   "cell_type": "code",
   "source": [
    "# Построение линейных графиков для каждого вида транспорта в зависимости от времени\n",
    "import matplotlib.pyplot as plt\n",
    "plt.figure(figsize=(10, 6))\n",
    "\n",
    "for column in ['CarCount', 'BikeCount', 'BusCount', 'TruckCount']:\n",
    "    plt.plot(hourly_traffic['Hour'], hourly_traffic[column], label=column)\n",
    "\n",
    "# Оформление графика\n",
    "plt.title('Зависимость видов транспорта от времени')\n",
    "plt.xlabel('Часы')\n",
    "plt.ylabel('Количество транспорта')\n",
    "plt.legend()\n",
    "plt.grid()\n",
    "plt.show()"
   ],
   "id": "e97eb7840c2fc6e9",
   "outputs": [
    {
     "data": {
      "text/plain": [
       "<Figure size 1000x600 with 1 Axes>"
      ],
      "image/png": "[encoded data removed]"
     },
     "metadata": {},
     "output_type": "display_data"
    }
   ],
   "execution_count": 13
  },
  {
   "metadata": {
    "ExecuteTime": {
     "end_time": "2025-03-19T18:47:00.579603Z",
     "start_time": "2025-03-19T18:47:00.568861Z"
    }
   },
   "cell_type": "code",
   "source": [
    "# Кодирование категориальных признаков\n",
    "df_balanced['Time'] = df_balanced['Time'].astype('category').cat.codes\n",
    "df_balanced['Traffic Situation'] = df_balanced['Traffic Situation'].astype('category').cat.codes\n",
    "df_balanced['Day of the week'] = df_balanced['Day of the week'].astype('category').cat.codes\n",
    "df_balanced['Hour'] = df_balanced['Hour'].astype('category').cat.codes"
   ],
   "id": "9dbe9b49087feafd",
   "outputs": [],
   "execution_count": 14
  },
  {
   "metadata": {
    "ExecuteTime": {
     "end_time": "2025-03-19T18:47:01.106307Z",
     "start_time": "2025-03-19T18:47:00.627371Z"
    }
   },
   "cell_type": "code",
   "source": [
    "# Матрица корреляций\n",
    "import seaborn as sns\n",
    "plt.figure(figsize=(8, 6))\n",
    "sns.heatmap(df_balanced.corr(), annot=True, cmap='coolwarm', center=0)\n",
    "plt.title('Корреляционная матрица признаков')\n",
    "plt.show()"
   ],
   "id": "c347920a1de80071",
   "outputs": [
    {
     "data": {
      "text/plain": [
       "<Figure size 800x600 with 2 Axes>"
      ],
      "image/png": "[encoded data removed]"
     },
     "metadata": {},
     "output_type": "display_data"
    }
   ],
   "execution_count": 15
  },
  {
   "metadata": {
    "ExecuteTime": {
     "end_time": "2025-03-19T18:47:01.471942Z",
     "start_time": "2025-03-19T18:47:01.120166Z"
    }
   },
   "cell_type": "code",
   "source": [
    "# Ящик с усами\n",
    "plt.figure(figsize=(10, 8))\n",
    "sns.boxplot(data=df_balanced)\n",
    "plt.xticks(rotation=90)\n",
    "plt.title('График для поиска выбросов')\n",
    "plt.show()"
   ],
   "id": "9857a62321a8db3c",
   "outputs": [
    {
     "data": {
      "text/plain": [
       "<Figure size 1000x800 with 1 Axes>"
      ],
      "image/png": "[encoded data removed]"
     },
     "metadata": {},
     "output_type": "display_data"
    }
   ],
   "execution_count": 16
  },
  {
   "metadata": {},
   "cell_type": "markdown",
   "source": "Из визуализации видно, что в датасете присутствуют выбросы",
   "id": "8cdfe4a2696851b1"
  },
  {
   "metadata": {
    "ExecuteTime": {
     "end_time": "2025-03-19T18:47:01.492933Z",
     "start_time": "2025-03-19T18:47:01.486377Z"
    }
   },
   "cell_type": "code",
   "source": [
    "# Поиск выбросов для параметра BikeCount\n",
    "Q1 = df_balanced['BikeCount'].quantile(0.25)\n",
    "Q3 = df_balanced['BikeCount'].quantile(0.75)\n",
    "IQR = Q3 - Q1\n",
    "\n",
    "lower_bound = Q1 - 1.5 * IQR\n",
    "upper_bound = Q3 + 1.5 * IQR\n",
    "\n",
    "outliers = df_balanced[(df_balanced['BikeCount'] < lower_bound) | (df_balanced['BikeCount'] > upper_bound)]\n",
    "print(f'Найдено {len(outliers)} выбросов')\n"
   ],
   "id": "9f1fd4e0a78ca052",
   "outputs": [
    {
     "name": "stdout",
     "output_type": "stream",
     "text": [
      "Найдено 37 выбросов\n"
     ]
    }
   ],
   "execution_count": 17
  },
  {
   "metadata": {
    "ExecuteTime": {
     "end_time": "2025-03-19T18:47:01.527337Z",
     "start_time": "2025-03-19T18:47:01.521310Z"
    }
   },
   "cell_type": "code",
   "source": [
    "# Удаляем выбросы из набора данных\n",
    "df_balanced = df_balanced[(df_balanced['BikeCount'] >= lower_bound) & (df_balanced['BikeCount'] <= upper_bound)]\n",
    "print(f'Очищенный набор данных содержит {len(df_balanced)} записей')"
   ],
   "id": "e4a6e1efedc9fe03",
   "outputs": [
    {
     "name": "stdout",
     "output_type": "stream",
     "text": [
      "Очищенный набор данных содержит 1179 записей\n"
     ]
    }
   ],
   "execution_count": 18
  },
  {
   "metadata": {},
   "cell_type": "markdown",
   "source": "Преобразование признаков",
   "id": "f20e81a973abf4a5"
  },
  {
   "metadata": {
    "ExecuteTime": {
     "end_time": "2025-03-19T18:47:01.721195Z",
     "start_time": "2025-03-19T18:47:01.570332Z"
    }
   },
   "cell_type": "code",
   "source": [
    "from sklearn.preprocessing import StandardScaler\n",
    "\n",
    "# Стандартизация\n",
    "standard_scaler = StandardScaler()\n",
    "X_standard = standard_scaler.fit_transform(df_balanced)\n",
    "print(\"Standard scaled:\\n\", X_standard)"
   ],
   "id": "9716ab809535aec2",
   "outputs": [
    {
     "name": "stdout",
     "output_type": "stream",
     "text": [
      "Standard scaled:\n",
      " [[ 0.48315765  0.78137817 -1.06705711 ...  0.97828265 -1.40272504\n",
      "   0.53823348]\n",
      " [ 0.51946839 -0.01367966 -1.06705711 ...  1.4800447  -1.40272504\n",
      "   0.53823348]\n",
      " [ 0.59208987  0.32705941  0.41359452 ...  1.3070233  -1.40272504\n",
      "   0.53823348]\n",
      " ...\n",
      " [-1.22344707  1.12211724  0.41359452 ...  0.33810348  1.31736184\n",
      "  -1.20670862]\n",
      " [ 0.77364356  1.57643601 -1.06705711 ...  0.78795911  1.31736184\n",
      "   0.82905717]\n",
      " [ 1.39092612  1.46285632 -0.07995603 ... -1.16718269  1.31736184\n",
      "   1.41070453]]\n"
     ]
    }
   ],
   "execution_count": 19
  },
  {
   "metadata": {},
   "cell_type": "markdown",
   "source": "Выбор признаков\n",
   "id": "2a628ab57178d4d1"
  },
  {
   "metadata": {
    "ExecuteTime": {
     "end_time": "2025-03-19T18:47:01.877327Z",
     "start_time": "2025-03-19T18:47:01.740871Z"
    }
   },
   "cell_type": "code",
   "source": [
    "from sklearn.model_selection import train_test_split\n",
    "\n",
    "# Разделяем на признаки (X) и целевую переменную (y)\n",
    "X = df_balanced.drop(columns=[\"Traffic Situation\"])\n",
    "y = df_balanced[\"Traffic Situation\"]\n",
    "\n",
    "# Разделяем на обучающую (80%) и тестовую (20%) выборки\n",
    "X_train, X_test, y_train, y_test = train_test_split(X, y, test_size=0.2, random_state=42, stratify=y)"
   ],
   "id": "9c8002ec31e1c090",
   "outputs": [],
   "execution_count": 20
  },
  {
   "metadata": {
    "ExecuteTime": {
     "end_time": "2025-03-19T18:47:02.177161Z",
     "start_time": "2025-03-19T18:47:01.904445Z"
    }
   },
   "cell_type": "code",
   "source": [
    "from sklearn.feature_selection import SelectKBest, f_classif\n",
    "\n",
    "# ANOVA F-тест\n",
    "k = 3  # Количество признаков для отбора\n",
    "selector = SelectKBest(score_func=f_classif, k=k)\n",
    "X_train_best = selector.fit_transform(X_train, y_train)\n",
    "X_test_best = selector.transform(X_test)\n",
    "\n",
    "# Получение имен выбранных признаков\n",
    "selected_features = selector.get_support(indices=True)\n",
    "selected_feature_names = X.columns[selected_features]\n",
    "print(f\"\\nОтобранные признаки с помощью SelectKBest (k={k}):\")\n",
    "print(selected_feature_names.tolist())"
   ],
   "id": "67bb339c90516d23",
   "outputs": [
    {
     "name": "stdout",
     "output_type": "stream",
     "text": [
      "\n",
      "Отобранные признаки с помощью SelectKBest (k=3):\n",
      "['CarCount', 'BusCount', 'Total']\n"
     ]
    }
   ],
   "execution_count": 21
  },
  {
   "metadata": {},
   "cell_type": "markdown",
   "source": "Классификатор градиентного бустинга (Gradient Boosting Classifier)",
   "id": "b7edade12a2b7594"
  },
  {
   "metadata": {
    "ExecuteTime": {
     "end_time": "2025-03-19T18:47:03.200586Z",
     "start_time": "2025-03-19T18:47:02.242812Z"
    }
   },
   "cell_type": "code",
   "source": [
    "# Импортируем необходимые библиотеки\n",
    "from sklearn.ensemble import GradientBoostingClassifier\n",
    "from sklearn.metrics import accuracy_score, classification_report, confusion_matrix\n",
    "from sklearn.preprocessing import StandardScaler\n",
    "from sklearn.model_selection import train_test_split\n",
    "\n",
    "# Разделяем на признаки (X) и целевую переменную (y)\n",
    "X = df_balanced.drop(columns=[\"Traffic Situation\"])\n",
    "y = df_balanced[\"Traffic Situation\"]\n",
    "\n",
    "# Разделение данных на обучающий и тестовый наборы\n",
    "X_train, X_test, y_train, y_test = train_test_split(X, y, test_size=0.3, random_state=42)\n",
    "\n",
    "# Создание модели Gradient Boosting Classifier\n",
    "gb_classifier = GradientBoostingClassifier(n_estimators=100, learning_rate=0.01, max_depth=3, random_state=42)\n",
    "\n",
    "# Обучение модели на обучающем наборе данных\n",
    "gb_classifier.fit(X_train, y_train)\n",
    "\n",
    "# Предсказание классов на тестовом наборе данных\n",
    "y_pred = gb_classifier.predict(X_test)\n",
    "\n",
    "# Оценка производительности модели\n",
    "accuracy_gb = accuracy_score(y_test, y_pred)\n",
    "print(f\"Accuracy: {accuracy_gb}\")\n",
    "\n",
    "# Вывод полного отчета\n",
    "report = classification_report(y_test, y_pred)\n",
    "print(\"Classification Report:\")\n",
    "print(report)\n",
    "\n",
    "print(\"Confusion Matrix:\")\n",
    "print(confusion_matrix(y_test, y_pred))"
   ],
   "id": "1ca1ef2ea713e55",
   "outputs": [
    {
     "name": "stdout",
     "output_type": "stream",
     "text": [
      "Accuracy: 0.9491525423728814\n",
      "Classification Report:\n",
      "              precision    recall  f1-score   support\n",
      "\n",
      "           0       0.99      1.00      0.99        81\n",
      "           1       0.86      1.00      0.92       104\n",
      "           2       1.00      1.00      1.00        85\n",
      "           3       1.00      0.79      0.88        84\n",
      "\n",
      "    accuracy                           0.95       354\n",
      "   macro avg       0.96      0.95      0.95       354\n",
      "weighted avg       0.96      0.95      0.95       354\n",
      "\n",
      "Confusion Matrix:\n",
      "[[ 81   0   0   0]\n",
      " [  0 104   0   0]\n",
      " [  0   0  85   0]\n",
      " [  1  17   0  66]]\n"
     ]
    }
   ],
   "execution_count": 22
  },
  {
   "metadata": {
    "ExecuteTime": {
     "end_time": "2025-03-19T18:51:49.062536Z",
     "start_time": "2025-03-19T18:47:03.228831Z"
    }
   },
   "cell_type": "code",
   "source": [
    "from sklearn.model_selection import GridSearchCV\n",
    "\n",
    "param_grid = {\n",
    "    'n_estimators': [100, 300, 500],\n",
    "    'max_depth': [3, 5, 7],\n",
    "    'learning_rate': [0.01, 0.05, 0.1],\n",
    "}\n",
    "\n",
    "grid_search = GridSearchCV(GradientBoostingClassifier(), param_grid, cv=5, scoring='accuracy')\n",
    "grid_search.fit(X_train, y_train)\n",
    "\n",
    "print(\"Лучшие параметры:\", grid_search.best_params_)\n",
    "best_model = grid_search.best_estimator_"
   ],
   "id": "3787a086958ca6f6",
   "outputs": [
    {
     "name": "stdout",
     "output_type": "stream",
     "text": [
      "Лучшие параметры: {'learning_rate': 0.01, 'max_depth': 3, 'n_estimators': 300}\n"
     ]
    }
   ],
   "execution_count": 23
  },
  {
   "metadata": {},
   "cell_type": "markdown",
   "source": "Классификатор Extra Trees (Extremely Randomized Trees)",
   "id": "1edd2ab7763a438a"
  },
  {
   "metadata": {
    "ExecuteTime": {
     "end_time": "2025-03-19T18:51:49.389332Z",
     "start_time": "2025-03-19T18:51:49.157330Z"
    }
   },
   "cell_type": "code",
   "source": [
    "# Импортируем необходимые библиотеки\n",
    "from sklearn.ensemble import ExtraTreesClassifier\n",
    "from sklearn.model_selection import train_test_split\n",
    "from sklearn.metrics import classification_report, accuracy_score\n",
    "\n",
    "# Разделяем на признаки (X) и целевую переменную (y)\n",
    "X = df_balanced.drop(columns=[\"Traffic Situation\"])\n",
    "y = df_balanced[\"Traffic Situation\"]\n",
    "\n",
    "# Разделение данных на обучающую и тестовую выборки\n",
    "X_train, X_test, y_train, y_test = train_test_split(X, y, test_size=0.2, random_state=42)\n",
    "\n",
    "# Нормализация данных\n",
    "scaler = StandardScaler()\n",
    "X_train = scaler.fit_transform(X_train)\n",
    "X_test = scaler.transform(X_test)\n",
    "\n",
    "# Создание и обучение классификатора Extra Trees\n",
    "clf = ExtraTreesClassifier(n_estimators=100, max_features='sqrt', random_state=42)\n",
    "clf.fit(X_train, y_train)\n",
    "\n",
    "# Прогнозирование и оценка точности\n",
    "y_pred = clf.predict(X_test)\n",
    "\n",
    "# Оценка производительности модели\n",
    "accuracy_extra_trees = accuracy_score(y_test, y_pred)\n",
    "print(f\"Accuracy: {accuracy_extra_trees}\")\n",
    "\n",
    "# Вывод полного отчета\n",
    "report = classification_report(y_test, y_pred)\n",
    "print(\"Classification Report:\")\n",
    "print(report)\n",
    "\n",
    "print(\"Confusion Matrix:\")\n",
    "print(confusion_matrix(y_test, y_pred))"
   ],
   "id": "b8570481638217fd",
   "outputs": [
    {
     "name": "stdout",
     "output_type": "stream",
     "text": [
      "Accuracy: 0.961864406779661\n",
      "Classification Report:\n",
      "              precision    recall  f1-score   support\n",
      "\n",
      "           0       0.94      0.98      0.96        51\n",
      "           1       0.96      0.99      0.97        68\n",
      "           2       0.97      1.00      0.98        59\n",
      "           3       0.98      0.88      0.93        58\n",
      "\n",
      "    accuracy                           0.96       236\n",
      "   macro avg       0.96      0.96      0.96       236\n",
      "weighted avg       0.96      0.96      0.96       236\n",
      "\n",
      "Confusion Matrix:\n",
      "[[50  1  0  0]\n",
      " [ 0 67  0  1]\n",
      " [ 0  0 59  0]\n",
      " [ 3  2  2 51]]\n"
     ]
    }
   ],
   "execution_count": 24
  },
  {
   "metadata": {},
   "cell_type": "markdown",
   "source": "Квадратичный дискриминантный анализ (Quadratic Discriminant Analysis, QDA)",
   "id": "4be2bbdf71120a4d"
  },
  {
   "metadata": {
    "ExecuteTime": {
     "end_time": "2025-03-19T18:51:49.460328Z",
     "start_time": "2025-03-19T18:51:49.403924Z"
    }
   },
   "cell_type": "code",
   "source": [
    "# Импортируем необходимые библиотеки\n",
    "from sklearn.model_selection import train_test_split\n",
    "from sklearn.discriminant_analysis import QuadraticDiscriminantAnalysis\n",
    "from sklearn.metrics import accuracy_score, classification_report\n",
    "\n",
    "# Нормализация данных\n",
    "scaler = StandardScaler()\n",
    "X = scaler.fit_transform(X)\n",
    "\n",
    "# Разделяем на признаки (X) и целевую переменную (y)\n",
    "X = df_balanced.drop(columns=[\"Traffic Situation\"])\n",
    "y = df_balanced[\"Traffic Situation\"]\n",
    "\n",
    "# Разделение данных на обучающую и тестовую выборки\n",
    "X_train, X_test, y_train, y_test = train_test_split(X, y, test_size=0.2, random_state=42)\n",
    "\n",
    "# Создание модели QDA\n",
    "qda_classifier = QuadraticDiscriminantAnalysis()\n",
    "\n",
    "# Обучение модели на обучающем наборе данных\n",
    "qda_classifier.fit(X_train, y_train)\n",
    "\n",
    "# Предсказание классов на тестовом наборе данных\n",
    "y_pred = qda_classifier.predict(X_test)\n",
    "\n",
    "# Оценка производительности модели\n",
    "accuracy_qda = accuracy_score(y_test, y_pred)\n",
    "print(f\"Accuracy: {accuracy_qda}\")\n",
    "\n",
    "# Вывод полного отчета\n",
    "report = classification_report(y_test, y_pred)\n",
    "print(\"Classification Report:\")\n",
    "print(report)\n",
    "\n",
    "print(\"Confusion Matrix:\")\n",
    "print(confusion_matrix(y_test, y_pred))"
   ],
   "id": "6854a4f219ec787b",
   "outputs": [
    {
     "name": "stdout",
     "output_type": "stream",
     "text": [
      "Accuracy: 0.7923728813559322\n",
      "Classification Report:\n",
      "              precision    recall  f1-score   support\n",
      "\n",
      "           0       0.80      0.94      0.86        51\n",
      "           1       0.88      0.66      0.76        68\n",
      "           2       0.91      0.83      0.87        59\n",
      "           3       0.63      0.78      0.70        58\n",
      "\n",
      "    accuracy                           0.79       236\n",
      "   macro avg       0.81      0.80      0.80       236\n",
      "weighted avg       0.81      0.79      0.79       236\n",
      "\n",
      "Confusion Matrix:\n",
      "[[48  2  0  1]\n",
      " [ 8 45  0 15]\n",
      " [ 0  0 49 10]\n",
      " [ 4  4  5 45]]\n"
     ]
    },
    {
     "name": "stderr",
     "output_type": "stream",
     "text": [
      "/Library/Frameworks/Python.framework/Versions/3.12/lib/python3.12/site-packages/sklearn/discriminant_analysis.py:1024: LinAlgWarning: The covariance matrix of class 0 is not full rank. Increasing the value of parameter `reg_param` might help reducing the collinearity.\n",
      "  warnings.warn(\n",
      "/Library/Frameworks/Python.framework/Versions/3.12/lib/python3.12/site-packages/sklearn/discriminant_analysis.py:1024: LinAlgWarning: The covariance matrix of class 1 is not full rank. Increasing the value of parameter `reg_param` might help reducing the collinearity.\n",
      "  warnings.warn(\n",
      "/Library/Frameworks/Python.framework/Versions/3.12/lib/python3.12/site-packages/sklearn/discriminant_analysis.py:1024: LinAlgWarning: The covariance matrix of class 2 is not full rank. Increasing the value of parameter `reg_param` might help reducing the collinearity.\n",
      "  warnings.warn(\n",
      "/Library/Frameworks/Python.framework/Versions/3.12/lib/python3.12/site-packages/sklearn/discriminant_analysis.py:1024: LinAlgWarning: The covariance matrix of class 3 is not full rank. Increasing the value of parameter `reg_param` might help reducing the collinearity.\n",
      "  warnings.warn(\n"
     ]
    }
   ],
   "execution_count": 25
  },
  {
   "metadata": {},
   "cell_type": "markdown",
   "source": "K Nearest Neighbors (K-ближайших соседей)",
   "id": "dad2caf2595e7aa9"
  },
  {
   "metadata": {
    "ExecuteTime": {
     "end_time": "2025-03-19T18:51:53.233765Z",
     "start_time": "2025-03-19T18:51:49.490619Z"
    }
   },
   "cell_type": "code",
   "source": [
    "# Импортируем необходимые библиотеки\n",
    "import numpy as np\n",
    "from sklearn.model_selection import train_test_split, GridSearchCV\n",
    "from sklearn.neighbors import KNeighborsClassifier\n",
    "from sklearn.preprocessing import StandardScaler\n",
    "from sklearn.metrics import classification_report, accuracy_score\n",
    "\n",
    "# Нормализация данных\n",
    "scaler = StandardScaler()\n",
    "X = scaler.fit_transform(X)\n",
    "\n",
    "# Разделяем на признаки (X) и целевую переменную (y)\n",
    "X = df_balanced.drop(columns=[\"Traffic Situation\"])\n",
    "y = df_balanced[\"Traffic Situation\"]\n",
    "\n",
    "# Разделение данных на обучающую и тестовую выборки\n",
    "X_train, X_test, y_train, y_test = train_test_split(X, y, test_size=0.2, random_state=42)\n",
    "\n",
    "# Настройка гиперпараметра k с использованием GridSearchCV\n",
    "param_grid = {'n_neighbors': np.arange(1, 50)}\n",
    "knn = KNeighborsClassifier()\n",
    "knn_cv = GridSearchCV(knn, param_grid, cv=5)\n",
    "knn_cv.fit(X_train, y_train)\n",
    "\n",
    "# Вывод лучшего значения k\n",
    "print(\"Лучшее значение k:\", knn_cv.best_params_['n_neighbors'])\n",
    "\n",
    "# Обучение модели с лучшим значением k\n",
    "knn_best = KNeighborsClassifier(n_neighbors=knn_cv.best_params_['n_neighbors'])\n",
    "knn_best.fit(X_train, y_train)\n",
    "\n",
    "# Предсказание на тестовом наборе\n",
    "y_pred = knn_best.predict(X_test)\n",
    "\n",
    "# Оценка производительности модели\n",
    "accuracy_knn_best = accuracy_score(y_test, y_pred)\n",
    "print(f\"Accuracy: {accuracy_knn_best}\")\n",
    "\n",
    "# Вывод полного отчета\n",
    "report = classification_report(y_test, y_pred)\n",
    "print(\"Classification Report:\")\n",
    "print(report)\n",
    "\n",
    "print(\"Confusion Matrix:\")\n",
    "print(confusion_matrix(y_test, y_pred))"
   ],
   "id": "1998f480f69861fc",
   "outputs": [
    {
     "name": "stdout",
     "output_type": "stream",
     "text": [
      "Лучшее значение k: 1\n",
      "Accuracy: 0.885593220338983\n",
      "Classification Report:\n",
      "              precision    recall  f1-score   support\n",
      "\n",
      "           0       0.94      0.96      0.95        51\n",
      "           1       0.90      0.94      0.92        68\n",
      "           2       0.94      0.81      0.87        59\n",
      "           3       0.77      0.83      0.80        58\n",
      "\n",
      "    accuracy                           0.89       236\n",
      "   macro avg       0.89      0.89      0.89       236\n",
      "weighted avg       0.89      0.89      0.89       236\n",
      "\n",
      "Confusion Matrix:\n",
      "[[49  1  0  1]\n",
      " [ 2 64  0  2]\n",
      " [ 0  0 48 11]\n",
      " [ 1  6  3 48]]\n"
     ]
    }
   ],
   "execution_count": 26
  },
  {
   "metadata": {},
   "cell_type": "markdown",
   "source": "Классификатор CatBoost",
   "id": "18ba59210ba15523"
  },
  {
   "metadata": {
    "ExecuteTime": {
     "end_time": "2025-03-19T18:51:54.239846Z",
     "start_time": "2025-03-19T18:51:53.282376Z"
    }
   },
   "cell_type": "code",
   "source": [
    "# Импортируем необходимые библиотеки\n",
    "from catboost import CatBoostClassifier\n",
    "from sklearn.model_selection import train_test_split\n",
    "from sklearn.metrics import classification_report, accuracy_score\n",
    "\n",
    "# Разделяем на признаки (X) и целевую переменную (y)\n",
    "X = df_balanced.drop(columns=[\"Traffic Situation\"])\n",
    "y = df_balanced[\"Traffic Situation\"]\n",
    "\n",
    "# Разделение данных на обучающий и тестовый наборы\n",
    "X_train, X_test, y_train, y_test = train_test_split(X, y, test_size=0.3, random_state=42)\n",
    "\n",
    "# Создание модели CatBoostClassifier\n",
    "clf = CatBoostClassifier(iterations=50, depth=10, learning_rate=0.2, loss_function='MultiClass', random_state=42)\n",
    "\n",
    "# Обучение модели на обучающем наборе данных\n",
    "clf.fit(X_train, y_train)\n",
    "\n",
    "# Предсказание классов на тестовом наборе данных\n",
    "y_pred = clf.predict(X_test)\n",
    "\n",
    "# Оценка производительности модели\n",
    "accuracy_catboost = accuracy_score(y_test, y_pred)\n",
    "print(f\"Accuracy: {accuracy_catboost}\")\n",
    "\n",
    "# Вывод полного отчета\n",
    "report = classification_report(y_test, y_pred)\n",
    "print(\"Classification Report:\")\n",
    "print(report)\n",
    "\n",
    "print(\"Confusion Matrix:\")\n",
    "print(confusion_matrix(y_test, y_pred))\n"
   ],
   "id": "f41541701175ee98",
   "outputs": [
    {
     "name": "stdout",
     "output_type": "stream",
     "text": [
      "0:\tlearn: 1.0537602\ttotal: 94.8ms\tremaining: 4.64s\n",
      "1:\tlearn: 0.8314070\ttotal: 111ms\tremaining: 2.66s\n",
      "2:\tlearn: 0.7065746\ttotal: 125ms\tremaining: 1.96s\n",
      "3:\tlearn: 0.5952495\ttotal: 139ms\tremaining: 1.6s\n",
      "4:\tlearn: 0.5130279\ttotal: 153ms\tremaining: 1.38s\n",
      "5:\tlearn: 0.4583044\ttotal: 168ms\tremaining: 1.23s\n",
      "6:\tlearn: 0.4028649\ttotal: 181ms\tremaining: 1.11s\n",
      "7:\tlearn: 0.3658456\ttotal: 195ms\tremaining: 1.02s\n",
      "8:\tlearn: 0.3201470\ttotal: 209ms\tremaining: 954ms\n",
      "9:\tlearn: 0.2804601\ttotal: 225ms\tremaining: 900ms\n",
      "10:\tlearn: 0.2474523\ttotal: 241ms\tremaining: 855ms\n",
      "11:\tlearn: 0.2239680\ttotal: 256ms\tremaining: 811ms\n",
      "12:\tlearn: 0.2068580\ttotal: 271ms\tremaining: 770ms\n",
      "13:\tlearn: 0.1860508\ttotal: 281ms\tremaining: 722ms\n",
      "14:\tlearn: 0.1709717\ttotal: 290ms\tremaining: 677ms\n",
      "15:\tlearn: 0.1566731\ttotal: 300ms\tremaining: 638ms\n",
      "16:\tlearn: 0.1435272\ttotal: 310ms\tremaining: 602ms\n",
      "17:\tlearn: 0.1342975\ttotal: 319ms\tremaining: 568ms\n",
      "18:\tlearn: 0.1273790\ttotal: 329ms\tremaining: 537ms\n",
      "19:\tlearn: 0.1164457\ttotal: 338ms\tremaining: 508ms\n",
      "20:\tlearn: 0.1091317\ttotal: 349ms\tremaining: 482ms\n",
      "21:\tlearn: 0.1025335\ttotal: 359ms\tremaining: 457ms\n",
      "22:\tlearn: 0.0941285\ttotal: 369ms\tremaining: 433ms\n",
      "23:\tlearn: 0.0884829\ttotal: 379ms\tremaining: 410ms\n",
      "24:\tlearn: 0.0838106\ttotal: 389ms\tremaining: 389ms\n",
      "25:\tlearn: 0.0774742\ttotal: 398ms\tremaining: 368ms\n",
      "26:\tlearn: 0.0728769\ttotal: 408ms\tremaining: 347ms\n",
      "27:\tlearn: 0.0699855\ttotal: 418ms\tremaining: 328ms\n",
      "28:\tlearn: 0.0659286\ttotal: 427ms\tremaining: 309ms\n",
      "29:\tlearn: 0.0641165\ttotal: 437ms\tremaining: 291ms\n",
      "30:\tlearn: 0.0619429\ttotal: 446ms\tremaining: 274ms\n",
      "31:\tlearn: 0.0598637\ttotal: 456ms\tremaining: 257ms\n",
      "32:\tlearn: 0.0581930\ttotal: 466ms\tremaining: 240ms\n",
      "33:\tlearn: 0.0557586\ttotal: 476ms\tremaining: 224ms\n",
      "34:\tlearn: 0.0536029\ttotal: 485ms\tremaining: 208ms\n",
      "35:\tlearn: 0.0506788\ttotal: 496ms\tremaining: 193ms\n",
      "36:\tlearn: 0.0485124\ttotal: 505ms\tremaining: 178ms\n",
      "37:\tlearn: 0.0466299\ttotal: 515ms\tremaining: 163ms\n",
      "38:\tlearn: 0.0449065\ttotal: 524ms\tremaining: 148ms\n",
      "39:\tlearn: 0.0436999\ttotal: 533ms\tremaining: 133ms\n",
      "40:\tlearn: 0.0420903\ttotal: 543ms\tremaining: 119ms\n",
      "41:\tlearn: 0.0402550\ttotal: 552ms\tremaining: 105ms\n",
      "42:\tlearn: 0.0387755\ttotal: 562ms\tremaining: 91.4ms\n",
      "43:\tlearn: 0.0370560\ttotal: 571ms\tremaining: 77.9ms\n",
      "44:\tlearn: 0.0359584\ttotal: 581ms\tremaining: 64.5ms\n",
      "45:\tlearn: 0.0346518\ttotal: 591ms\tremaining: 51.4ms\n",
      "46:\tlearn: 0.0334275\ttotal: 600ms\tremaining: 38.3ms\n",
      "47:\tlearn: 0.0325256\ttotal: 610ms\tremaining: 25.4ms\n",
      "48:\tlearn: 0.0313923\ttotal: 619ms\tremaining: 12.6ms\n",
      "49:\tlearn: 0.0305768\ttotal: 629ms\tremaining: 0us\n",
      "Accuracy: 0.9858757062146892\n",
      "Classification Report:\n",
      "              precision    recall  f1-score   support\n",
      "\n",
      "           0       0.99      0.99      0.99        81\n",
      "           1       0.97      1.00      0.99       104\n",
      "           2       0.99      1.00      0.99        85\n",
      "           3       1.00      0.95      0.98        84\n",
      "\n",
      "    accuracy                           0.99       354\n",
      "   macro avg       0.99      0.99      0.99       354\n",
      "weighted avg       0.99      0.99      0.99       354\n",
      "\n",
      "Confusion Matrix:\n",
      "[[ 80   1   0   0]\n",
      " [  0 104   0   0]\n",
      " [  0   0  85   0]\n",
      " [  1   2   1  80]]\n"
     ]
    }
   ],
   "execution_count": 27
  },
  {
   "metadata": {},
   "cell_type": "markdown",
   "source": "Классификатор LogisticRegression",
   "id": "3ac8d9d38a9230d3"
  },
  {
   "metadata": {
    "ExecuteTime": {
     "end_time": "2025-03-19T18:51:54.732960Z",
     "start_time": "2025-03-19T18:51:54.669802Z"
    }
   },
   "cell_type": "code",
   "source": [
    "# Импортируем необходимые библиотеки\n",
    "from sklearn.model_selection import train_test_split\n",
    "from sklearn.linear_model import LogisticRegression\n",
    "from sklearn.metrics import accuracy_score, classification_report, confusion_matrix\n",
    "\n",
    "# Создание новых признаков\n",
    "# Статистические признаки (среднее, медиана, стандартное отклонение)\n",
    "X[\"mean\"] = X.mean(axis=1)\n",
    "X[\"std\"] = X.std(axis=1)\n",
    "X[\"median\"] = X.median(axis=1)\n",
    "\n",
    "# Объединяем новые признаки\n",
    "X_new = np.hstack(X[[\"mean\", \"std\", \"median\"]].values)\n",
    "\n",
    "# Разделяем на признаки (X) и целевую переменную (y)\n",
    "X_new = df_balanced.drop(columns=[\"Traffic Situation\"])\n",
    "y = df_balanced[\"Traffic Situation\"]\n",
    "\n",
    "# Разделение данных на обучающий и тестовый наборы\n",
    "X_new_train, X_new_test, y_train, y_test = train_test_split(X_new, y, test_size=0.3, random_state=42)\n",
    "\n",
    "# Стандартизируем данные (масштабируем признаки)\n",
    "scaler = StandardScaler()\n",
    "X_new_train_scaled = scaler.fit_transform(X_new_train)\n",
    "X_new_test_scaled = scaler.transform(X_new_test)\n",
    "\n",
    "# Создадим и обучим модель логистической регрессии\n",
    "model = LogisticRegression(\n",
    "    random_state=42,\n",
    "    solver='lbfgs',\n",
    "    max_iter=200\n",
    ")\n",
    "model.fit(X_new_train_scaled, y_train)\n",
    "\n",
    "# Сделаем предсказания на тестовом наборе данных\n",
    "y_pred = model.predict(X_new_test_scaled)\n",
    "\n",
    "# Оценка производительности модели\n",
    "accuracy_LogisticRegression = accuracy_score(y_test, y_pred)\n",
    "print(f\"Accuracy: {accuracy_LogisticRegression}\")\n",
    "\n",
    "# Вывод полного отчета\n",
    "report = classification_report(y_test, y_pred)\n",
    "print(\"Classification Report:\")\n",
    "print(report)\n",
    "\n",
    "print(\"Confusion Matrix:\")\n",
    "print(confusion_matrix(y_test, y_pred))"
   ],
   "id": "d6733c168f5a84fe",
   "outputs": [
    {
     "name": "stdout",
     "output_type": "stream",
     "text": [
      "Accuracy: 0.8700564971751412\n",
      "Classification Report:\n",
      "              precision    recall  f1-score   support\n",
      "\n",
      "           0       0.87      0.94      0.90        81\n",
      "           1       0.88      0.88      0.88       104\n",
      "           2       0.90      0.88      0.89        85\n",
      "           3       0.81      0.77      0.79        84\n",
      "\n",
      "    accuracy                           0.87       354\n",
      "   macro avg       0.87      0.87      0.87       354\n",
      "weighted avg       0.87      0.87      0.87       354\n",
      "\n",
      "Confusion Matrix:\n",
      "[[76  5  0  0]\n",
      " [ 7 92  0  5]\n",
      " [ 0  0 75 10]\n",
      " [ 4  7  8 65]]\n"
     ]
    }
   ],
   "execution_count": 28
  },
  {
   "metadata": {},
   "cell_type": "markdown",
   "source": "Сравнение классификаторов",
   "id": "e1987fd30bba7cef"
  },
  {
   "metadata": {
    "ExecuteTime": {
     "end_time": "2025-03-19T18:51:56.145791Z",
     "start_time": "2025-03-19T18:51:55.983102Z"
    }
   },
   "cell_type": "code",
   "source": [
    "import matplotlib.pyplot as plt\n",
    "\n",
    "# Создаем список классификаторов\n",
    "classifiers_names = [\"Gradient Boosting\", \"Extra Trees\", \"QDA\", \"KNeighbors\", \"CatBoost\", \"LogisticRegression\"]\n",
    "accuracies = [accuracy_gb, accuracy_extra_trees, accuracy_qda, accuracy_knn_best, accuracy_catboost, accuracy_LogisticRegression]\n",
    "\n",
    "# Визуализация результатов\n",
    "plt.figure(figsize=(8, 5))\n",
    "plt.bar(classifiers_names, accuracies)\n",
    "plt.xlabel(\"Классификаторы\")\n",
    "plt.ylabel(\"Accuracy\")\n",
    "plt.ylim(0, 1)  # Ограничиваем диапазон\n",
    "plt.title(\"Сравнение точности классификаторов\")\n",
    "plt.show()\n"
   ],
   "id": "9f379c04fd285827",
   "outputs": [
    {
     "data": {
      "text/plain": [
       "<Figure size 800x500 with 1 Axes>"
      ],
      "image/png": "[encoded data removed]"
     },
     "metadata": {},
     "output_type": "display_data"
    }
   ],
   "execution_count": 29
  },
  {
   "metadata": {},
   "cell_type": "markdown",
   "source": "Из графика можно сделать вывод, что лучше справился классификатор CatBoost.",
   "id": "f5f006c02967565a"
  }
 ],
 "metadata": {
  "kernelspec": {
   "display_name": "Python 3",
   "language": "python",
   "name": "python3"
  },
  "language_info": {
   "codemirror_mode": {
    "name": "ipython",
    "version": 2
   },
   "file_extension": ".py",
   "mimetype": "text/x-python",
   "name": "python",
   "nbconvert_exporter": "python",
   "pygments_lexer": "ipython2",
   "version": "2.7.6"
  }
 },
 "nbformat": 4,
 "nbformat_minor": 5
}
